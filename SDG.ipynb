{
 "cells": [
  {
   "cell_type": "code",
   "execution_count": 1,
   "metadata": {},
   "outputs": [
    {
     "name": "stdout",
     "output_type": "stream",
     "text": [
      "[[ 1.09542272 35.7886599 ]\n",
      " [ 1.5319338  35.77157734]\n",
      " [ 2.31074264 35.50215118]\n",
      " ...\n",
      " [ 4.28276558 35.06503685]\n",
      " [ 1.73674364 35.76683727]\n",
      " [ 1.76282292 35.48716441]]\n",
      "Mean Squared Error: 2.5509715245097135\n",
      "\n",
      "Predictions:\n",
      " [[ 1.09542272 35.7886599 ]\n",
      " [ 1.5319338  35.77157734]\n",
      " [ 2.31074264 35.50215118]\n",
      " [ 2.67260721 35.44067814]\n",
      " [ 2.10236101 35.654292  ]]\n"
     ]
    }
   ],
   "source": [
    "import numpy as np\n",
    "from sklearn.datasets import fetch_california_housing\n",
    "from sklearn.linear_model import SGDRegressor\n",
    "from sklearn.multioutput import MultiOutputRegressor\n",
    "from sklearn.model_selection import train_test_split\n",
    "from sklearn.metrics import mean_squared_error\n",
    "from sklearn.preprocessing import StandardScaler\n",
    "\n",
    "\n",
    "data = fetch_california_housing()\n",
    "\n",
    "\n",
    "x= data.data[:,:3]\n",
    "\n",
    "\n",
    "y=np.column_stack((data.target,data.data[:,6]))\n",
    "\n",
    "x_train, x_test, y_train,y_test = train_test_split(x,y, test_size = 0.2, random_state =42)\n",
    "\n",
    "scaler_x = StandardScaler()\n",
    "scaler_y = StandardScaler()\n",
    "\n",
    "x_train = scaler_x.fit_transform(x_train)\n",
    "x_test = scaler_x.fit_transform(x_test)\n",
    "y_train = scaler_y.fit_transform(y_train)\n",
    "y_test = scaler_y.fit_transform(y_test)\n",
    "\n",
    "sgd = SGDRegressor(max_iter=1000, tol = 1e-3)\n",
    "\n",
    "multi_output_sgd= MultiOutputRegressor(sgd)\n",
    "\n",
    "multi_output_sgd.fit(x_train, y_train)\n",
    "\n",
    "y_pred =multi_output_sgd.predict(x_test)\n",
    "\n",
    "y_pred = scaler_y.inverse_transform(y_pred)\n",
    "y_test = scaler_y.inverse_transform(y_test)\n",
    "print(y_pred)\n",
    "\n",
    "mse = mean_squared_error(y_test,y_pred)\n",
    "\n",
    "print(\"Mean Squared Error:\",mse)\n",
    "\n",
    "print(\"\\nPredictions:\\n\",y_pred[:5])"
   ]
  }
 ],
 "metadata": {
  "kernelspec": {
   "display_name": "base",
   "language": "python",
   "name": "python3"
  },
  "language_info": {
   "codemirror_mode": {
    "name": "ipython",
    "version": 3
   },
   "file_extension": ".py",
   "mimetype": "text/x-python",
   "name": "python",
   "nbconvert_exporter": "python",
   "pygments_lexer": "ipython3",
   "version": "3.12.4"
  }
 },
 "nbformat": 4,
 "nbformat_minor": 2
}
